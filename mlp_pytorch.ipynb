{
 "cells": [
  {
   "cell_type": "code",
   "execution_count": 1,
   "id": "outstanding-director",
   "metadata": {},
   "outputs": [],
   "source": [
    "import os\n",
    "import numpy as np\n",
    "import pandas as pd\n",
    "import matplotlib.pyplot as plt\n",
    "%matplotlib inline\n",
    "\n",
    "import torch\n",
    "import torch.nn as nn\n",
    "import torch.nn.functional as F"
   ]
  },
  {
   "cell_type": "code",
   "execution_count": 2,
   "id": "million-health",
   "metadata": {},
   "outputs": [],
   "source": [
    "#device = torch.device(\"cuda:0\")\n",
    "device = torch.device(\"cpu\")"
   ]
  },
  {
   "cell_type": "code",
   "execution_count": 3,
   "id": "fluid-reset",
   "metadata": {},
   "outputs": [
    {
     "data": {
      "text/plain": [
       "[<matplotlib.lines.Line2D at 0x11cf244d250>]"
      ]
     },
     "execution_count": 3,
     "metadata": {},
     "output_type": "execute_result"
    },
    {
     "data": {
      "image/png": "[encoded data removed]",
      "text/plain": [
       "<Figure size 432x288 with 1 Axes>"
      ]
     },
     "metadata": {
      "needs_background": "light"
     },
     "output_type": "display_data"
    }
   ],
   "source": [
    "# Let us generate data\n",
    "def get_data():\n",
    "    np.random.seed(2)\n",
    "    x = np.random.randn(100, 1)\n",
    "    x = np.sort(x, axis=0)\n",
    "\n",
    "    targets = np.sin(x * 2 * np.pi / 3)\n",
    "    targets = targets + 0.2 * np.random.randn(*targets.shape)\n",
    "\n",
    "    # Convert to PyTorch tensors\n",
    "    x = torch.FloatTensor(x)\n",
    "    targets = torch.FloatTensor(targets)\n",
    "    \n",
    "    return x, targets\n",
    "\n",
    "x, targets = get_data()\n",
    "# Plot the data\n",
    "fig, ax = plt.subplots(1)\n",
    "ax.plot(x, targets, '.')"
   ]
  },
  {
   "cell_type": "code",
   "execution_count": 4,
   "id": "italian-morning",
   "metadata": {},
   "outputs": [],
   "source": [
    "class MLP(nn.Module):\n",
    "    def __init__(self, n_inputs=1):\n",
    "        super(MLP, self).__init__()\n",
    "        self.input = nn.Linear(n_inputs, 10)\n",
    "        self.hidden1 = nn.Linear(10, 11)\n",
    "        self.hidden2 = nn.Linear(11, 1)\n",
    "        self.tanh = nn.Tanh()\n",
    "        self.tanh2 = nn.Tanh()\n",
    "\n",
    "    def forward(self, x):\n",
    "        \"\"\"\n",
    "        Args:\n",
    "          x of shape (n_samples, n_inputs): Model inputs.\n",
    "        \n",
    "        Returns:\n",
    "          y of shape (n_samples, 1): Model outputs.\n",
    "        \"\"\"\n",
    "        # YOUR CODE HERE\n",
    "        x = self.input(x)\n",
    "        x = self.tanh(x)\n",
    "        x = self.hidden1(x)\n",
    "        x = self.tanh2(x)\n",
    "        x = self.hidden2(x)\n",
    "        return x\n",
    "        "
   ]
  },
  {
   "cell_type": "code",
   "execution_count": 5,
   "id": "accurate-breed",
   "metadata": {},
   "outputs": [
    {
     "name": "stdout",
     "output_type": "stream",
     "text": [
      "Success\n"
     ]
    }
   ],
   "source": [
    "# Let us create the network and make sure it can process a random input of the right shape\n",
    "def test_MLP_shapes():\n",
    "    n_inputs = 1\n",
    "    n_samples = 10\n",
    "    net = MLP()\n",
    "    y = net(torch.randn(n_samples, n_inputs))\n",
    "    assert y.shape == torch.Size([n_samples, 1]), f\"Bad y.shape={y.shape}\"\n",
    "    print('Success')\n",
    "\n",
    "test_MLP_shapes()"
   ]
  },
  {
   "cell_type": "code",
   "execution_count": 6,
   "id": "adjustable-number",
   "metadata": {},
   "outputs": [
    {
     "data": {
      "text/plain": [
       "MLP(\n",
       "  (input): Linear(in_features=1, out_features=10, bias=True)\n",
       "  (hidden1): Linear(in_features=10, out_features=11, bias=True)\n",
       "  (hidden2): Linear(in_features=11, out_features=1, bias=True)\n",
       "  (tanh): Tanh()\n",
       "  (tanh2): Tanh()\n",
       ")"
      ]
     },
     "execution_count": 6,
     "metadata": {},
     "output_type": "execute_result"
    }
   ],
   "source": [
    "# Create the model\n",
    "model = MLP()\n",
    "model.to(device)"
   ]
  },
  {
   "cell_type": "code",
   "execution_count": 8,
   "id": "determined-safety",
   "metadata": {},
   "outputs": [
    {
     "name": "stdout",
     "output_type": "stream",
     "text": [
      "Loss: 0.63, Total Loss: 0.63\n",
      "Loss: 0.58, Total Loss: 1.22\n",
      "Loss: 0.55, Total Loss: 1.76\n",
      "Loss: 0.53, Total Loss: 2.29\n",
      "Loss: 0.52, Total Loss: 2.81\n",
      "Loss: 0.51, Total Loss: 3.32\n",
      "Loss: 0.51, Total Loss: 3.83\n",
      "Loss: 0.50, Total Loss: 4.33\n",
      "Loss: 0.50, Total Loss: 4.83\n",
      "Loss: 0.49, Total Loss: 5.32\n",
      "Loss: 0.49, Total Loss: 5.81\n",
      "Loss: 0.49, Total Loss: 6.30\n",
      "Loss: 0.48, Total Loss: 6.78\n",
      "Loss: 0.48, Total Loss: 7.26\n",
      "Loss: 0.47, Total Loss: 7.73\n",
      "Loss: 0.46, Total Loss: 8.19\n",
      "Loss: 0.46, Total Loss: 8.64\n",
      "Loss: 0.45, Total Loss: 9.09\n",
      "Loss: 0.44, Total Loss: 9.53\n",
      "Loss: 0.44, Total Loss: 9.97\n",
      "Loss: 0.43, Total Loss: 10.41\n",
      "Loss: 0.43, Total Loss: 10.84\n",
      "Loss: 0.42, Total Loss: 11.26\n",
      "Loss: 0.42, Total Loss: 11.68\n",
      "Loss: 0.41, Total Loss: 12.09\n",
      "Loss: 0.40, Total Loss: 12.49\n",
      "Loss: 0.40, Total Loss: 12.88\n",
      "Loss: 0.39, Total Loss: 13.27\n",
      "Loss: 0.38, Total Loss: 13.65\n",
      "Loss: 0.37, Total Loss: 14.03\n",
      "Loss: 0.36, Total Loss: 14.39\n",
      "Loss: 0.36, Total Loss: 14.75\n",
      "Loss: 0.35, Total Loss: 15.10\n",
      "Loss: 0.34, Total Loss: 15.43\n",
      "Loss: 0.33, Total Loss: 15.77\n",
      "Loss: 0.32, Total Loss: 16.09\n",
      "Loss: 0.32, Total Loss: 16.41\n",
      "Loss: 0.31, Total Loss: 16.71\n",
      "Loss: 0.30, Total Loss: 17.01\n",
      "Loss: 0.29, Total Loss: 17.30\n",
      "Loss: 0.28, Total Loss: 17.59\n",
      "Loss: 0.28, Total Loss: 17.86\n",
      "Loss: 0.27, Total Loss: 18.13\n",
      "Loss: 0.26, Total Loss: 18.39\n",
      "Loss: 0.25, Total Loss: 18.64\n",
      "Loss: 0.24, Total Loss: 18.89\n",
      "Loss: 0.24, Total Loss: 19.12\n",
      "Loss: 0.23, Total Loss: 19.35\n",
      "Loss: 0.22, Total Loss: 19.58\n",
      "Loss: 0.21, Total Loss: 19.79\n",
      "Loss: 0.21, Total Loss: 20.00\n",
      "Loss: 0.20, Total Loss: 20.20\n",
      "Loss: 0.19, Total Loss: 20.39\n",
      "Loss: 0.18, Total Loss: 20.57\n",
      "Loss: 0.17, Total Loss: 20.75\n",
      "Loss: 0.17, Total Loss: 20.91\n",
      "Loss: 0.16, Total Loss: 21.07\n",
      "Loss: 0.15, Total Loss: 21.21\n",
      "Loss: 0.14, Total Loss: 21.35\n",
      "Loss: 0.13, Total Loss: 21.48\n",
      "Loss: 0.12, Total Loss: 21.60\n",
      "Loss: 0.11, Total Loss: 21.71\n",
      "Loss: 0.10, Total Loss: 21.82\n",
      "Loss: 0.10, Total Loss: 21.91\n",
      "Loss: 0.09, Total Loss: 22.01\n",
      "Loss: 0.09, Total Loss: 22.09\n",
      "Loss: 0.08, Total Loss: 22.17\n",
      "Loss: 0.08, Total Loss: 22.25\n",
      "Loss: 0.07, Total Loss: 22.32\n",
      "Loss: 0.07, Total Loss: 22.39\n",
      "Loss: 0.07, Total Loss: 22.46\n",
      "Loss: 0.07, Total Loss: 22.53\n",
      "Loss: 0.07, Total Loss: 22.60\n",
      "Loss: 0.06, Total Loss: 22.66\n",
      "Loss: 0.06, Total Loss: 22.72\n",
      "Loss: 0.06, Total Loss: 22.79\n",
      "Loss: 0.06, Total Loss: 22.85\n",
      "Loss: 0.06, Total Loss: 22.91\n",
      "Loss: 0.06, Total Loss: 22.97\n",
      "Loss: 0.06, Total Loss: 23.03\n",
      "Loss: 0.06, Total Loss: 23.09\n",
      "Loss: 0.06, Total Loss: 23.15\n",
      "Loss: 0.06, Total Loss: 23.21\n",
      "Loss: 0.06, Total Loss: 23.27\n",
      "Loss: 0.06, Total Loss: 23.33\n",
      "Loss: 0.06, Total Loss: 23.39\n",
      "Loss: 0.06, Total Loss: 23.44\n",
      "Loss: 0.06, Total Loss: 23.50\n",
      "Loss: 0.06, Total Loss: 23.56\n",
      "Loss: 0.06, Total Loss: 23.62\n",
      "Loss: 0.06, Total Loss: 23.67\n",
      "Loss: 0.06, Total Loss: 23.73\n",
      "Loss: 0.06, Total Loss: 23.79\n",
      "Loss: 0.06, Total Loss: 23.84\n",
      "Loss: 0.06, Total Loss: 23.90\n",
      "Loss: 0.06, Total Loss: 23.95\n",
      "Loss: 0.06, Total Loss: 24.01\n",
      "Loss: 0.06, Total Loss: 24.06\n",
      "Loss: 0.06, Total Loss: 24.12\n",
      "Loss: 0.06, Total Loss: 24.18\n",
      "Loss: 0.06, Total Loss: 24.23\n",
      "Loss: 0.06, Total Loss: 24.29\n",
      "Loss: 0.05, Total Loss: 24.34\n",
      "Loss: 0.05, Total Loss: 24.40\n",
      "Loss: 0.05, Total Loss: 24.45\n",
      "Loss: 0.05, Total Loss: 24.51\n",
      "Loss: 0.05, Total Loss: 24.56\n",
      "Loss: 0.05, Total Loss: 24.61\n",
      "Loss: 0.05, Total Loss: 24.67\n",
      "Loss: 0.05, Total Loss: 24.72\n",
      "Loss: 0.05, Total Loss: 24.78\n",
      "Loss: 0.05, Total Loss: 24.83\n",
      "Loss: 0.05, Total Loss: 24.88\n",
      "Loss: 0.05, Total Loss: 24.94\n",
      "Loss: 0.05, Total Loss: 24.99\n",
      "Loss: 0.05, Total Loss: 25.04\n",
      "Loss: 0.05, Total Loss: 25.10\n",
      "Loss: 0.05, Total Loss: 25.15\n",
      "Loss: 0.05, Total Loss: 25.20\n",
      "Loss: 0.05, Total Loss: 25.26\n",
      "Loss: 0.05, Total Loss: 25.31\n",
      "Loss: 0.05, Total Loss: 25.36\n",
      "Loss: 0.05, Total Loss: 25.42\n",
      "Loss: 0.05, Total Loss: 25.47\n",
      "Loss: 0.05, Total Loss: 25.52\n",
      "Loss: 0.05, Total Loss: 25.57\n",
      "Loss: 0.05, Total Loss: 25.63\n",
      "Loss: 0.05, Total Loss: 25.68\n",
      "Loss: 0.05, Total Loss: 25.73\n",
      "Loss: 0.05, Total Loss: 25.79\n",
      "Loss: 0.05, Total Loss: 25.84\n",
      "Loss: 0.05, Total Loss: 25.89\n",
      "Loss: 0.05, Total Loss: 25.94\n",
      "Loss: 0.05, Total Loss: 26.00\n",
      "Loss: 0.05, Total Loss: 26.05\n",
      "Loss: 0.05, Total Loss: 26.10\n",
      "Loss: 0.05, Total Loss: 26.15\n",
      "Loss: 0.05, Total Loss: 26.21\n",
      "Loss: 0.05, Total Loss: 26.26\n",
      "Loss: 0.05, Total Loss: 26.31\n",
      "Loss: 0.05, Total Loss: 26.36\n",
      "Loss: 0.05, Total Loss: 26.41\n",
      "Loss: 0.05, Total Loss: 26.47\n",
      "Loss: 0.05, Total Loss: 26.52\n",
      "Loss: 0.05, Total Loss: 26.57\n",
      "Loss: 0.05, Total Loss: 26.62\n",
      "Loss: 0.05, Total Loss: 26.67\n",
      "Loss: 0.05, Total Loss: 26.73\n",
      "Loss: 0.05, Total Loss: 26.78\n",
      "Loss: 0.05, Total Loss: 26.83\n",
      "Loss: 0.05, Total Loss: 26.88\n",
      "Loss: 0.05, Total Loss: 26.93\n",
      "Loss: 0.05, Total Loss: 26.99\n",
      "Loss: 0.05, Total Loss: 27.04\n",
      "Loss: 0.05, Total Loss: 27.09\n",
      "Loss: 0.05, Total Loss: 27.14\n",
      "Loss: 0.05, Total Loss: 27.19\n",
      "Loss: 0.05, Total Loss: 27.25\n",
      "Loss: 0.05, Total Loss: 27.30\n",
      "Loss: 0.05, Total Loss: 27.35\n",
      "Loss: 0.05, Total Loss: 27.40\n",
      "Loss: 0.05, Total Loss: 27.45\n",
      "Loss: 0.05, Total Loss: 27.50\n",
      "Loss: 0.05, Total Loss: 27.55\n",
      "Loss: 0.05, Total Loss: 27.61\n",
      "Loss: 0.05, Total Loss: 27.66\n",
      "Loss: 0.05, Total Loss: 27.71\n",
      "Loss: 0.05, Total Loss: 27.76\n",
      "Loss: 0.05, Total Loss: 27.81\n",
      "Loss: 0.05, Total Loss: 27.86\n",
      "Loss: 0.05, Total Loss: 27.91\n",
      "Loss: 0.05, Total Loss: 27.97\n",
      "Loss: 0.05, Total Loss: 28.02\n",
      "Loss: 0.05, Total Loss: 28.07\n",
      "Loss: 0.05, Total Loss: 28.12\n",
      "Loss: 0.05, Total Loss: 28.17\n",
      "Loss: 0.05, Total Loss: 28.22\n",
      "Loss: 0.05, Total Loss: 28.27\n",
      "Loss: 0.05, Total Loss: 28.32\n",
      "Loss: 0.05, Total Loss: 28.38\n",
      "Loss: 0.05, Total Loss: 28.43\n",
      "Loss: 0.05, Total Loss: 28.48\n",
      "Loss: 0.05, Total Loss: 28.53\n",
      "Loss: 0.05, Total Loss: 28.58\n",
      "Loss: 0.05, Total Loss: 28.63\n",
      "Loss: 0.05, Total Loss: 28.68\n",
      "Loss: 0.05, Total Loss: 28.73\n",
      "Loss: 0.05, Total Loss: 28.78\n",
      "Loss: 0.05, Total Loss: 28.84\n",
      "Loss: 0.05, Total Loss: 28.89\n",
      "Loss: 0.05, Total Loss: 28.94\n",
      "Loss: 0.05, Total Loss: 28.99\n",
      "Loss: 0.05, Total Loss: 29.04\n",
      "Loss: 0.05, Total Loss: 29.09\n",
      "Loss: 0.05, Total Loss: 29.14\n",
      "Loss: 0.05, Total Loss: 29.19\n",
      "Loss: 0.05, Total Loss: 29.24\n",
      "Loss: 0.05, Total Loss: 29.29\n",
      "Loss: 0.05, Total Loss: 29.34\n",
      "Loss: 0.05, Total Loss: 29.39\n"
     ]
    }
   ],
   "source": [
    "# The training loop here\n",
    "criterion = nn.MSELoss()\n",
    "optimizer = torch.optim.Adam(model.parameters(), lr=0.01)\n",
    "total_loss = 0.0\n",
    "    \n",
    "for i in range(200):\n",
    "    optimizer.zero_grad()\n",
    "    outputs = model(x)\n",
    "    loss = criterion(outputs, targets)\n",
    "    loss.backward()\n",
    "    optimizer.step()\n",
    "    total_loss += loss.item()\n",
    "    print('Loss: {:.2f}, Total Loss: {:.2f}'.format(loss, total_loss))\n",
    "    "
   ]
  },
  {
   "cell_type": "code",
   "execution_count": 11,
   "id": "genuine-profession",
   "metadata": {
    "scrolled": true
   },
   "outputs": [
    {
     "data": {
      "image/png": "[encoded data removed]",
      "text/plain": [
       "<Figure size 432x288 with 1 Axes>"
      ]
     },
     "metadata": {
      "needs_background": "light"
     },
     "output_type": "display_data"
    }
   ],
   "source": [
    "# Plot the trained MLP\n",
    "with torch.no_grad():\n",
    "    fig, ax = plt.subplots(1)\n",
    "    ax.plot(x, targets, '.')\n",
    "    y = model(x)\n",
    "    ax.plot(x, y.numpy(), 'r-')\n",
    "    ax.grid(True)"
   ]
  },
  {
   "cell_type": "code",
   "execution_count": null,
   "id": "deadly-committee",
   "metadata": {},
   "outputs": [],
   "source": []
  }
 ],
 "metadata": {
  "kernelspec": {
   "display_name": "Python 3",
   "language": "python",
   "name": "python3"
  },
  "language_info": {
   "codemirror_mode": {
    "name": "ipython",
    "version": 3
   },
   "file_extension": ".py",
   "mimetype": "text/x-python",
   "name": "python",
   "nbconvert_exporter": "python",
   "pygments_lexer": "ipython3",
   "version": "3.9.2"
  }
 },
 "nbformat": 4,
 "nbformat_minor": 5
}
